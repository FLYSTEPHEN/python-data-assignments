{
 "cells": [
  {
   "cell_type": "code",
   "execution_count": 39,
   "metadata": {},
   "outputs": [],
   "source": [
    "from string import punctuation \n",
    "\n",
    "text='''\n",
    "Word frequency is a common routine used in text analysis. Given a piece of Enligh text, you can perform word frequency analysis in following steps:\n",
    "\n",
    "Use str.split() to get a list of blankspace separated words.\n",
    "Use a dict() in this structure: {word: frequency}, where key is the word and value is an integer.\n",
    "Loop over the list obtained in step 1 and use the accumulator in step 2 to count the frequencies.\n",
    "In the end, the dict is our answer.\n",
    "\n",
    "HINT: Before you accumulate in a dict like ans[key] += 1, you may want to check if the key actually exists in the dict by key in ans or ans.contains(key).\n",
    "\n",
    "QUIZ: Does this procedure work with Chinese? If so, please give the code or pseudo code. If not, in which step it fails?\n",
    "\n",
    "Bonus: pretty print in ordered format\n",
    "\n",
    "The default print of dict has unreadable special chars like {,},:. Can you print the result in a ascii table like what we did in the mortgage schedule? Please rank the table from highest frequence to lowest frequency.\n",
    "'''\n",
    "\n"
   ]
  },
  {
   "cell_type": "code",
   "execution_count": 40,
   "metadata": {},
   "outputs": [],
   "source": [
    "table = str.maketrans('','',punctuation)\n",
    "list0=text.translate(table).split()\n",
    "\n",
    "\n"
   ]
  },
  {
   "cell_type": "code",
   "execution_count": 41,
   "metadata": {},
   "outputs": [
    {
     "data": {
      "text/plain": [
       "['Word',\n",
       " 'frequency',\n",
       " 'is',\n",
       " 'a',\n",
       " 'common',\n",
       " 'routine',\n",
       " 'used',\n",
       " 'in',\n",
       " 'text',\n",
       " 'analysis',\n",
       " 'Given',\n",
       " 'a',\n",
       " 'piece',\n",
       " 'of',\n",
       " 'Enligh',\n",
       " 'text',\n",
       " 'you',\n",
       " 'can',\n",
       " 'perform',\n",
       " 'word',\n",
       " 'frequency',\n",
       " 'analysis',\n",
       " 'in',\n",
       " 'following',\n",
       " 'steps',\n",
       " 'Use',\n",
       " 'strsplit',\n",
       " 'to',\n",
       " 'get',\n",
       " 'a',\n",
       " 'list',\n",
       " 'of',\n",
       " 'blankspace',\n",
       " 'separated',\n",
       " 'words',\n",
       " 'Use',\n",
       " 'a',\n",
       " 'dict',\n",
       " 'in',\n",
       " 'this',\n",
       " 'structure',\n",
       " 'word',\n",
       " 'frequency',\n",
       " 'where',\n",
       " 'key',\n",
       " 'is',\n",
       " 'the',\n",
       " 'word',\n",
       " 'and',\n",
       " 'value',\n",
       " 'is',\n",
       " 'an',\n",
       " 'integer',\n",
       " 'Loop',\n",
       " 'over',\n",
       " 'the',\n",
       " 'list',\n",
       " 'obtained',\n",
       " 'in',\n",
       " 'step',\n",
       " '1',\n",
       " 'and',\n",
       " 'use',\n",
       " 'the',\n",
       " 'accumulator',\n",
       " 'in',\n",
       " 'step',\n",
       " '2',\n",
       " 'to',\n",
       " 'count',\n",
       " 'the',\n",
       " 'frequencies',\n",
       " 'In',\n",
       " 'the',\n",
       " 'end',\n",
       " 'the',\n",
       " 'dict',\n",
       " 'is',\n",
       " 'our',\n",
       " 'answer',\n",
       " 'HINT',\n",
       " 'Before',\n",
       " 'you',\n",
       " 'accumulate',\n",
       " 'in',\n",
       " 'a',\n",
       " 'dict',\n",
       " 'like',\n",
       " 'anskey',\n",
       " '1',\n",
       " 'you',\n",
       " 'may',\n",
       " 'want',\n",
       " 'to',\n",
       " 'check',\n",
       " 'if',\n",
       " 'the',\n",
       " 'key',\n",
       " 'actually',\n",
       " 'exists',\n",
       " 'in',\n",
       " 'the',\n",
       " 'dict',\n",
       " 'by',\n",
       " 'key',\n",
       " 'in',\n",
       " 'ans',\n",
       " 'or',\n",
       " 'anscontainskey',\n",
       " 'QUIZ',\n",
       " 'Does',\n",
       " 'this',\n",
       " 'procedure',\n",
       " 'work',\n",
       " 'with',\n",
       " 'Chinese',\n",
       " 'If',\n",
       " 'so',\n",
       " 'please',\n",
       " 'give',\n",
       " 'the',\n",
       " 'code',\n",
       " 'or',\n",
       " 'pseudo',\n",
       " 'code',\n",
       " 'If',\n",
       " 'not',\n",
       " 'in',\n",
       " 'which',\n",
       " 'step',\n",
       " 'it',\n",
       " 'fails',\n",
       " 'Bonus',\n",
       " 'pretty',\n",
       " 'print',\n",
       " 'in',\n",
       " 'ordered',\n",
       " 'format',\n",
       " 'The',\n",
       " 'default',\n",
       " 'print',\n",
       " 'of',\n",
       " 'dict',\n",
       " 'has',\n",
       " 'unreadable',\n",
       " 'special',\n",
       " 'chars',\n",
       " 'like',\n",
       " 'Can',\n",
       " 'you',\n",
       " 'print',\n",
       " 'the',\n",
       " 'result',\n",
       " 'in',\n",
       " 'a',\n",
       " 'ascii',\n",
       " 'table',\n",
       " 'like',\n",
       " 'what',\n",
       " 'we',\n",
       " 'did',\n",
       " 'in',\n",
       " 'the',\n",
       " 'mortgage',\n",
       " 'schedule',\n",
       " 'Please',\n",
       " 'rank',\n",
       " 'the',\n",
       " 'table',\n",
       " 'from',\n",
       " 'highest',\n",
       " 'frequence',\n",
       " 'to',\n",
       " 'lowest',\n",
       " 'frequency']"
      ]
     },
     "execution_count": 41,
     "metadata": {},
     "output_type": "execute_result"
    }
   ],
   "source": [
    "list0"
   ]
  },
  {
   "cell_type": "code",
   "execution_count": null,
   "metadata": {},
   "outputs": [],
   "source": [
    "while '' in list0:\n",
    "    list0.remove('')"
   ]
  },
  {
   "cell_type": "code",
   "execution_count": 33,
   "metadata": {},
   "outputs": [
    {
     "data": {
      "text/plain": [
       "['Word frequency is a common routine used in text analysis Given a piece of Enligh text you can perform word frequency analysis in following steps',\n",
       " 'Use strsplit to get a list of blankspace separated words',\n",
       " 'Use a dict in this structure word frequency where key is the word and value is an integer',\n",
       " 'Loop over the list obtained in step 1 and use the accumulator in step 2 to count the frequencies',\n",
       " 'In the end the dict is our answer',\n",
       " 'HINT Before you accumulate in a dict like anskey  1 you may want to check if the key actually exists in the dict by key in ans or anscontainskey',\n",
       " 'QUIZ Does this procedure work with Chinese If so please give the code or pseudo code If not in which step it fails',\n",
       " 'Bonus pretty print in ordered format',\n",
       " 'The default print of dict has unreadable special chars like  Can you print the result in a ascii table like what we did in the mortgage schedule Please rank the table from highest frequence to lowest frequency']"
      ]
     },
     "execution_count": 33,
     "metadata": {},
     "output_type": "execute_result"
    }
   ],
   "source": [
    "list0"
   ]
  },
  {
   "cell_type": "code",
   "execution_count": 42,
   "metadata": {},
   "outputs": [
    {
     "name": "stdout",
     "output_type": "stream",
     "text": [
      "{'1': 2, '2': 1, 'Before': 1, 'Bonus': 1, 'Can': 1, 'Chinese': 1, 'Does': 1, 'Enligh': 1, 'Given': 1, 'HINT': 1, 'If': 2, 'In': 1, 'Loop': 1, 'Please': 1, 'QUIZ': 1, 'The': 1, 'Use': 2, 'Word': 1, 'a': 6, 'accumulate': 1, 'accumulator': 1, 'actually': 1, 'an': 1, 'analysis': 2, 'and': 2, 'ans': 1, 'anscontainskey': 1, 'anskey': 1, 'answer': 1, 'ascii': 1, 'blankspace': 1, 'by': 1, 'can': 1, 'chars': 1, 'check': 1, 'code': 2, 'common': 1, 'count': 1, 'default': 1, 'dict': 5, 'did': 1, 'end': 1, 'exists': 1, 'fails': 1, 'following': 1, 'format': 1, 'frequence': 1, 'frequencies': 1, 'frequency': 4, 'from': 1, 'get': 1, 'give': 1, 'has': 1, 'highest': 1, 'if': 1, 'in': 12, 'integer': 1, 'is': 4, 'it': 1, 'key': 3, 'like': 3, 'list': 2, 'lowest': 1, 'may': 1, 'mortgage': 1, 'not': 1, 'obtained': 1, 'of': 3, 'or': 2, 'ordered': 1, 'our': 1, 'over': 1, 'perform': 1, 'piece': 1, 'please': 1, 'pretty': 1, 'print': 3, 'procedure': 1, 'pseudo': 1, 'rank': 1, 'result': 1, 'routine': 1, 'schedule': 1, 'separated': 1, 'so': 1, 'special': 1, 'step': 3, 'steps': 1, 'strsplit': 1, 'structure': 1, 'table': 2, 'text': 2, 'the': 12, 'this': 2, 'to': 4, 'unreadable': 1, 'use': 1, 'used': 1, 'value': 1, 'want': 1, 'we': 1, 'what': 1, 'where': 1, 'which': 1, 'with': 1, 'word': 3, 'words': 1, 'work': 1, 'you': 4}\n"
     ]
    }
   ],
   "source": [
    "list1=list(sorted(set(list0)))\n",
    "dict0={}\n",
    "for i in list1:\n",
    "    dict0[i]=list0.count(i)\n",
    "print(dict0)"
   ]
  },
  {
   "cell_type": "code",
   "execution_count": 5,
   "metadata": {},
   "outputs": [
    {
     "ename": "AttributeError",
     "evalue": "'list' object has no attribute 'translate'",
     "output_type": "error",
     "traceback": [
      "\u001b[0;31m---------------------------------------------------------------------------\u001b[0m",
      "\u001b[0;31mAttributeError\u001b[0m                            Traceback (most recent call last)",
      "\u001b[0;32m<ipython-input-5-84a5705f719a>\u001b[0m in \u001b[0;36m<module>\u001b[0;34m()\u001b[0m\n\u001b[1;32m      2\u001b[0m \u001b[0mpunctuation_table\u001b[0m \u001b[0;34m=\u001b[0m \u001b[0mstr\u001b[0m\u001b[0;34m.\u001b[0m\u001b[0mmaketrans\u001b[0m\u001b[0;34m(\u001b[0m\u001b[0;34m''\u001b[0m\u001b[0;34m,\u001b[0m\u001b[0;34m''\u001b[0m\u001b[0;34m,\u001b[0m\u001b[0mpunctuation\u001b[0m\u001b[0;34m)\u001b[0m\u001b[0;34m\u001b[0m\u001b[0m\n\u001b[1;32m      3\u001b[0m \u001b[0mlist_without_punctuation\u001b[0m \u001b[0;34m=\u001b[0m \u001b[0mtext\u001b[0m\u001b[0;34m.\u001b[0m\u001b[0mtranslate\u001b[0m\u001b[0;34m(\u001b[0m\u001b[0mpunctuation_table\u001b[0m\u001b[0;34m)\u001b[0m\u001b[0;34m.\u001b[0m\u001b[0msplit\u001b[0m\u001b[0;34m(\u001b[0m\u001b[0;34m)\u001b[0m\u001b[0;34m\u001b[0m\u001b[0m\n\u001b[0;32m----> 4\u001b[0;31m \u001b[0mlist_without_punctuation\u001b[0m\u001b[0;34m.\u001b[0m\u001b[0mtranslate\u001b[0m\u001b[0;34m(\u001b[0m\u001b[0mpunctuation_table\u001b[0m\u001b[0;34m)\u001b[0m\u001b[0;34m\u001b[0m\u001b[0m\n\u001b[0m",
      "\u001b[0;31mAttributeError\u001b[0m: 'list' object has no attribute 'translate'"
     ]
    }
   ],
   "source": [
    "punctuation +='[]'\n",
    "punctuation_table = str.maketrans('','',punctuation)\n",
    "list_without_punctuation = text.translate(punctuation_table).split()"
   ]
  },
  {
   "cell_type": "code",
   "execution_count": null,
   "metadata": {},
   "outputs": [],
   "source": []
  }
 ],
 "metadata": {
  "kernelspec": {
   "display_name": "Python 3",
   "language": "python",
   "name": "python3"
  },
  "language_info": {
   "codemirror_mode": {
    "name": "ipython",
    "version": 3
   },
   "file_extension": ".py",
   "mimetype": "text/x-python",
   "name": "python",
   "nbconvert_exporter": "python",
   "pygments_lexer": "ipython3",
   "version": "3.7.0"
  }
 },
 "nbformat": 4,
 "nbformat_minor": 2
}
