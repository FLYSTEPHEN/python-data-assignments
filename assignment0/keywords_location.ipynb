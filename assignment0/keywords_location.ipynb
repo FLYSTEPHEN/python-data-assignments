{
 "cells": [
  {
   "cell_type": "code",
   "execution_count": 3,
   "metadata": {},
   "outputs": [
    {
     "name": "stdout",
     "output_type": "stream",
     "text": [
      "word:trump\n",
      "          keyword:trump                                            paragraphs\n",
      "0  trade-wars-news1.txt                                                    []\n",
      "1  trade-wars-news2.txt                                              [15, 25]\n",
      "2  trade-wars-news3.txt  [0, 3, 4, 8, 11, 14, 16, 17, 18, 20, 21, 32, 33, 35]\n",
      "3  trade-wars-news4.txt                     [3, 4, 9, 10, 18, 19, 20, 24, 27]\n",
      "4  trade-wars-news5.txt                   [2, 14, 15, 17, 18, 19, 20, 21, 22]\n",
      "CPU times: user 11.8 ms, sys: 3.13 ms, total: 14.9 ms\n",
      "Wall time: 2.9 s\n"
     ]
    }
   ],
   "source": [
    "%%time\n",
    "import csv\n",
    "import os\n",
    "import pandas as pd\n",
    "pd.set_option('max_rows',2000)\n",
    "pd.set_option('max_colwidth',100)\n",
    "\n",
    "def list_documents(path): #將待處理的文件以list輸出\n",
    "    list_txt = []\n",
    "    list_file = os.listdir(path) #讀取目錄下所有文件的路徑\n",
    "    list_file.remove('stopword.txt')\n",
    "    for i in list_file:\n",
    "        if i.find('.txt') != -1: #如果文件是.txt文件\n",
    "            list_txt.append(i)\n",
    "    list_txt.sort()\n",
    "    n = len(list_txt)\n",
    "    return list_txt, n #n是文件數量\n",
    "\n",
    "def locate_word(word,text):\n",
    "    list_paragraphs_contain_word = []\n",
    "    list_paragraphs_text = text.lower().split('\\n') #按段落分出列表\n",
    "    while '' in list_paragraphs_text: \n",
    "        list_paragraphs_text.remove('') #去除空段落（由空行造成），確保段數的準確性\n",
    "    for i in range(0,len(list_paragraphs_text)):\n",
    "        if list_paragraphs_text[i].find(word) > -1: #如果找到了這個單詞\n",
    "            list_paragraphs_contain_word.append(i) #把這個段落的序號加入list\n",
    "    return list_paragraphs_contain_word\n",
    "\n",
    "def write_cvs(word,dict):\n",
    "    with open('keywords_location.csv','w',newline='') as f:\n",
    "        writer = csv.writer(f,delimiter=',')\n",
    "        title = 'keyword:'+str(word)\n",
    "        header = [title,'paragraphs']\n",
    "        writer.writerow(header)\n",
    "        writer.writerows(dict.items())\n",
    "\n",
    "word = input('please input a keyword:')\n",
    "path = \"./\"\n",
    "list_txt, n = list_documents(path)\n",
    "dict_words_location = {}\n",
    "for i in list_txt:\n",
    "    with open(i,'r') as t:\n",
    "        text = t.read()\n",
    "    dict_words_location[i] = locate_word(word,text)\n",
    "write_cvs(word,dict_words_location)\n",
    "df=pd.read_csv('keywords_location.csv')\n",
    "print(df)"
   ]
  }
 ],
 "metadata": {
  "kernelspec": {
   "display_name": "Python 3",
   "language": "python",
   "name": "python3"
  },
  "language_info": {
   "codemirror_mode": {
    "name": "ipython",
    "version": 3
   },
   "file_extension": ".py",
   "mimetype": "text/x-python",
   "name": "python",
   "nbconvert_exporter": "python",
   "pygments_lexer": "ipython3",
   "version": "3.7.0"
  }
 },
 "nbformat": 4,
 "nbformat_minor": 2
}
