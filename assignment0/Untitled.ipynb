{
 "cells": [
  {
   "cell_type": "code",
   "execution_count": 8,
   "metadata": {},
   "outputs": [
    {
     "name": "stdout",
     "output_type": "stream",
     "text": [
      "<__main__.frequency object at 0x10c117198>\n",
      "CPU times: user 506 µs, sys: 77 µs, total: 583 µs\n",
      "Wall time: 538 µs\n"
     ]
    }
   ],
   "source": [
    "%%time\n",
    "import csv\n",
    "import os #用於讀取文件列表\n",
    "import pandas as pd\n",
    "from string import punctuation\n",
    "pd.set_option('max_rows',2000)\n",
    "pd.set_option('max_colwidth',100)\n",
    "punctuation += '\\\"“”‘’—-–'\n",
    "\n",
    "\n",
    "class Account:\n",
    "    def __init__(self, name):\n",
    "        self.name = name\n",
    "        self.balance = 0\n",
    "\n",
    "    def deposit(self, text):  \n",
    "        text = text.replace(\"’s\",\"\")\n",
    "        translator = str.maketrans(\"\",\"\",punctuation) \n",
    "        #translator = str.maketrans(punctuation,len(punctuation)*' ') #note:str.maketrans(input,output,delete)\n",
    "        self.balance = text.lower().translate(translator).split()\n",
    "\n",
    "# class frequency():\n",
    "    \n",
    "#     def __init__(self, text): #self refer to class itself, its default.\n",
    "#         self.text = text\n",
    "#         self.kill = 0\n",
    "#     def kill_punctuations_capitals(self,text): #將大寫字母轉化為小寫，去除標點，列出單詞\n",
    "#         text = self.text.replace(\"’s\",\"\")\n",
    "#         translator = str.maketrans(\"\",\"\",punctuation) \n",
    "#         #translator = str.maketrans(punctuation,len(punctuation)*' ') #note:str.maketrans(input,output,delete)\n",
    "#         kill = text.lower().translate(translator).split()\n",
    "#         return self.kill\n",
    "    \n",
    "#     def extract_meaningful(list): #去除無意義的單詞\n",
    "#         list_meaningful_words = []\n",
    "#         with open ('stopword.txt','r') as s:\n",
    "#             list_stop_words = s.read().split() #讀取stoplist\n",
    "#         for m in list:\n",
    "#             if m not in list_stop_words:\n",
    "#                 list_meaningful_words.append(m)\n",
    "#         return list_meaningful_words\n",
    "    \n",
    "    \n",
    "#     def words_frequency(list): #統計一篇文章中的frequency\n",
    "#         dict_words_frequency={}\n",
    "#         for m in list:\n",
    "#             dict_words_frequency[m]=list.count(m)\n",
    "#         return dict_words_frequency\n",
    "    \n",
    "    \n",
    "#     def rank_frequency(dict): #根據frequency排序，也可以最後用print(s.sort_values(ascending=False))，但是不方便寫cvs\n",
    "#         dict_frequency_rank={}\n",
    "#         rank = sorted(dict.items(), key=lambda item: item[1], reverse=True)\n",
    "#         for m in range(0,len(rank)):\n",
    "#             dict_frequency_rank.update({rank[m][0]:rank[m][1]})\n",
    "#         return dict_frequency_rank\n",
    "    \n",
    "text = 'China, advertisment china advertisment china advertisment usa'\n",
    "\n",
    "a = account.balance(text)\n",
    "a.\n",
    "print(a)"
   ]
  },
  {
   "cell_type": "code",
   "execution_count": 2,
   "metadata": {},
   "outputs": [
    {
     "ename": "AttributeError",
     "evalue": "'Account' object has no attribute 'Account'",
     "output_type": "error",
     "traceback": [
      "\u001b[0;31m---------------------------------------------------------------------------\u001b[0m",
      "\u001b[0;31mAttributeError\u001b[0m                            Traceback (most recent call last)",
      "\u001b[0;32m<ipython-input-2-dc31912d5d08>\u001b[0m in \u001b[0;36m<module>\u001b[0;34m()\u001b[0m\n\u001b[0;32m----> 1\u001b[0;31m \u001b[0mprint\u001b[0m\u001b[0;34m(\u001b[0m\u001b[0macct1\u001b[0m\u001b[0;34m.\u001b[0m\u001b[0mAccount\u001b[0m\u001b[0;34m)\u001b[0m\u001b[0;34m\u001b[0m\u001b[0m\n\u001b[0m",
      "\u001b[0;31mAttributeError\u001b[0m: 'Account' object has no attribute 'Account'"
     ]
    }
   ],
   "source": [
    "print(acct1.Account)"
   ]
  },
  {
   "cell_type": "code",
   "execution_count": null,
   "metadata": {},
   "outputs": [],
   "source": []
  }
 ],
 "metadata": {
  "kernelspec": {
   "display_name": "Python 3",
   "language": "python",
   "name": "python3"
  },
  "language_info": {
   "codemirror_mode": {
    "name": "ipython",
    "version": 3
   },
   "file_extension": ".py",
   "mimetype": "text/x-python",
   "name": "python",
   "nbconvert_exporter": "python",
   "pygments_lexer": "ipython3",
   "version": "3.7.0"
  }
 },
 "nbformat": 4,
 "nbformat_minor": 2
}
