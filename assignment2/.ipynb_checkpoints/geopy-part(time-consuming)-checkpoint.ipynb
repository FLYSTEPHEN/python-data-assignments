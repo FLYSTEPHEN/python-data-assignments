{
 "cells": [
  {
   "cell_type": "code",
   "execution_count": null,
   "metadata": {},
   "outputs": [],
   "source": [
    "%%time\n",
    "import pandas as pd\n",
    "from geopy.geocoders import Nominatim\n",
    "import time\n",
    "list_raw=[]\n",
    "geolocator = Nominatim(user_agent=\"my-application\")\n",
    "df_dj = pd.read_csv(\"reference/journalists-data.csv\",\n",
    "            names=['name','agency','location','github'])\n",
    "for i in df_dj['location']:\n",
    "    location=geolocator.geocode(i, language='en',timeout=60)\n",
    "    list_raw.append(location.raw)\n",
    "    time.sleep(2)\n",
    "df_geo = pd.DataFrame(list_raw)\n",
    "df_geo.to_csv('reference/geopy-raw.csv')"
   ]
  },
  {
   "cell_type": "code",
   "execution_count": null,
   "metadata": {},
   "outputs": [],
   "source": [
    "%%time\n",
    "import pandas as pd\n",
    "from geopy.geocoders import Nominatim\n",
    "import time\n",
    "list_raw=[]\n",
    "geolocator = Nominatim(user_agent=\"my-application\")\n",
    "df_dj = pd.read_csv(\"reference/journalists-data.csv\",\n",
    "            names=['name','agency','location','github'])\n",
    "for i in df_dj['location']:\n",
    "    location=geolocator.geocode(i, language='en',timeout=60)\n",
    "    list_raw.append(location.raw)\n",
    "    time.sleep(2)\n",
    "df_geo = pd.DataFrame(list_raw)\n",
    "df_geo.to_csv('reference/geopy-raw.csv')"
   ]
  }
 ],
 "metadata": {
  "kernelspec": {
   "display_name": "Python 3",
   "language": "python",
   "name": "python3"
  },
  "language_info": {
   "codemirror_mode": {
    "name": "ipython",
    "version": 3
   },
   "file_extension": ".py",
   "mimetype": "text/x-python",
   "name": "python",
   "nbconvert_exporter": "python",
   "pygments_lexer": "ipython3",
   "version": "3.7.0"
  }
 },
 "nbformat": 4,
 "nbformat_minor": 2
}
