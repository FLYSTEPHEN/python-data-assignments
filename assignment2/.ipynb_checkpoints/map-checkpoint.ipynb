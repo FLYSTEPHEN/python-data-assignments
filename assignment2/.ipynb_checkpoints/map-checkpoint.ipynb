{
 "cells": [
  {
   "cell_type": "code",
   "execution_count": null,
   "metadata": {
    "scrolled": true
   },
   "outputs": [],
   "source": [
    "import pandas as pd\n",
    "from geopy.geocoders import Nominatim\n",
    "import time\n",
    "list_raw=[]\n",
    "geolocator = Nominatim(user_agent=\"my-application\")\n",
    "df_dj = pd.read_csv(\"reference/journalists-data.csv\",\n",
    "            names=['name','agency','location','github'])\n",
    "for i in df_dj['location']:\n",
    "    location=geolocator.geocode(i, language='en',timeout=60)\n",
    "    list_raw.append(location.raw)\n",
    "    time.sleep(2)\n",
    "df = pd.DataFrame(list_raw)\n",
    "df.to_csv('geopy-raw.csv')"
   ]
  },
  {
   "cell_type": "code",
   "execution_count": 6,
   "metadata": {},
   "outputs": [
    {
     "data": {
      "text/html": [
       "<iframe id=\"igraph\" scrolling=\"no\" style=\"border:none;\" seamless=\"seamless\" src=\"https://plot.ly/~FLYSTEPHEN/9.embed\" height=\"525px\" width=\"100%\"></iframe>"
      ],
      "text/plain": [
       "<plotly.tools.PlotlyDisplay object>"
      ]
     },
     "execution_count": 6,
     "metadata": {},
     "output_type": "execute_result"
    }
   ],
   "source": [
    "import plotly.plotly as py\n",
    "import pandas as pd\n",
    "\n",
    "df_1 = pd.read_csv('geopy-raw.csv')  #geopy-raw.csv是上一cell中导出的记者地址原始数据\n",
    "df_2 = pd.read_csv('reference/country2code.csv'\n",
    "                   ,names=['COUNTRY','CODE'])  #reference/country2code.csv是转换器文件\n",
    "list_country = [i.split(', ')[-1] for i in list(df_1['display_name'])]  #獲取地址中的country\n",
    "dict_country2code = df_2.set_index('COUNTRY').T.to_dict('list')  #country2code的dataframe轉化為字典\n",
    "list_code = [dict_country2code[i][0] for i in list_country]  #将所有记者的country转化为code\n",
    "dict_count = {}\n",
    "for m in list_code:  #计数code\n",
    "    dict_count[m] = list_code.count(m) #根據country2code，country轉化為code\n",
    "df_merge_1 = pd.DataFrame(dict_count, index=['data']).T\n",
    "#因为计数结果未包含所有country，所以将计数结果转化为dataframe，准备合并到完整的country表上\n",
    "df_merge_2 = pd.read_csv('reference/code&country.csv',names=['code','country'])  #这是完整的country表\n",
    "df_code_country_data = df_merge_2.join(df_merge_1, on='code').fillna(0)  #将数据合并到完整的country表上，填充NaN\n",
    "df_code_country_data.to_csv('country-with-data-journalists-amount.csv')\n",
    "code = list(df_code_country_data['code'])\n",
    "data = list(df_code_country_data['data'])\n",
    "country = list(df_code_country_data['country'])\n",
    "\n",
    "\n",
    "data = [ dict(\n",
    "        type = 'choropleth',\n",
    "        locations = code,  #國家代碼，可使用上面的方法把國家名轉化為代碼\n",
    "        z = data,  #數據\n",
    "        text = country,  #國家名，此處因為使用了dataframe的數據，因此所有項目都是一一對應關係\n",
    "        colorscale = [[0,\"rgb(0, 30, 155)\"],[0.1,\"rgb(15, 45, 165)\"],[0.2,\"rgb(30, 60, 175)\"],\n",
    "                      [0.3,\"rgb(45, 75, 185)\"],[0.4,\"rgb(60, 90, 195)\"],[0.5,\"rgb(75, 105, 205)\"],\n",
    "                      [0.6,\"rgb(90, 120, 215)\"],[0.7,\"rgb(115, 145, 225)\"],[0.8,\"rgb(140, 170, 235)\"],\n",
    "                      [0.9,\"rgb(165, 195, 245)\"],[1,\"rgb(255, 255, 255)\"]],  #深淺變化\n",
    "        autocolorscale = False,  #深淺變化不符合審美，建議False\n",
    "        reversescale = True,  #此項根據上面colorscale，設為True\n",
    "        marker = dict(  #設置國界線\n",
    "            line = dict (\n",
    "                color = 'rgb(180,180,180)',\n",
    "                width = 0.5\n",
    "            ) ),\n",
    "        colorbar = dict(\n",
    "            autotick = False,\n",
    "            title = 'amount'),\n",
    "      ) ]\n",
    "\n",
    "layout = dict(\n",
    "    title = 'Global Data Journalist Distribution<br>Source:\\\n",
    "            <a href=\"http://jplusplus.github.io/global-directory/\">\\\n",
    "            Global Data Journalist Directory</a>',  #設置標題\n",
    "    geo = dict(\n",
    "        showframe = False,  #設置有無地圖大邊框\n",
    "        showcoastlines = False,  #設置有無海岸線\n",
    "        projection = dict(\n",
    "            type = 'Mercator'\n",
    "        )\n",
    "    )\n",
    ")\n",
    "\n",
    "fig = dict( data=data, layout=layout )\n",
    "py.iplot( fig, validate=False, filename='d3-world-map' )"
   ]
  }
 ],
 "metadata": {
  "kernelspec": {
   "display_name": "Python 3",
   "language": "python",
   "name": "python3"
  },
  "language_info": {
   "codemirror_mode": {
    "name": "ipython",
    "version": 3
   },
   "file_extension": ".py",
   "mimetype": "text/x-python",
   "name": "python",
   "nbconvert_exporter": "python",
   "pygments_lexer": "ipython3",
   "version": "3.7.0"
  }
 },
 "nbformat": 4,
 "nbformat_minor": 2
}
