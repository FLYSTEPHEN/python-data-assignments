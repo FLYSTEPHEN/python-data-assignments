{
 "cells": [
  {
   "cell_type": "code",
   "execution_count": null,
   "metadata": {},
   "outputs": [],
   "source": [
    "%%time\n",
    "import pandas as pd\n",
    "from geopy.geocoders import Nominatim\n",
    "import time\n",
    "list_raw=[]\n",
    "geolocator = Nominatim(user_agent=\"my-application\")\n",
    "df_dj = pd.read_csv(\"reference/journalists-data.csv\",\n",
    "            names=['name','agency','location','github'])\n",
    "for i in df_dj['location']:\n",
    "    location=geolocator.geocode(i, language='en',timeout=60)\n",
    "    list_raw.append(location.raw)\n",
    "    time.sleep(2)\n",
    "df_geo = pd.DataFrame(list_raw)\n",
    "df_geo.to_csv('reference/geopy-raw.csv')"
   ]
  },
  {
   "cell_type": "code",
   "execution_count": null,
   "metadata": {},
   "outputs": [],
   "source": [
    "import plotly.plotly as py\n",
    "import pandas as pd\n",
    "\n",
    "df_geo = pd.read_excel('reference/Education.xlsx')\n",
    "\n",
    "df_geo['text'] = df_0d['name'] + '<br>institution:' + df_0d['institution'] + '<br>city:'\\\n",
    "+ df_0d['city'] + '<br>contribution:' + df_0d['contribution_sum'].astype(str)\n",
    "\n",
    "scl = [ [0,\"rgb(5, 10, 112)\"],[0.4,\"rgb(40, 60, 190)\"],[0.55,\"rgb(70, 100, 245)\"],\\\n",
    "    [0.7,\"rgb(90, 120, 245)\"],[0.85,\"rgb(106, 137, 247)\"],[0.99,\"rgb(106, 137, 247)\"],[1,\"rgb(220, 220, 220)\"] ]\n",
    "\n",
    "data = [ dict(\n",
    "        type = 'scattergeo',\n",
    "        locationmode = 'ISO-3',\n",
    "        lon = df_edu['Long'],  #\n",
    "        lat = df_edu['Lat'],  #\n",
    "        text = df_edu['Organisation'],  #\n",
    "        mode = 'markers',\n",
    "        marker = dict(\n",
    "            size = 10,\n",
    "            opacity = 0.8,\n",
    "            reversescale = True,\n",
    "            autocolorscale = False,\n",
    "            symbol = 'circle',\n",
    "            line = dict(\n",
    "                width=1,\n",
    "                color='rgba(102, 102, 102)'\n",
    "            ),\n",
    "            colorscale = scl,\n",
    "            cmin = 0,\n",
    "            color = 1000,  #\n",
    "            cmax = 2000,  #\n",
    "            colorbar=dict(\n",
    "                title=\"Incoming flightsFebruary 2011\"\n",
    "            )\n",
    "        ))]\n",
    "\n",
    "layout = dict(\n",
    "        title = 'Most trafficked US airports<br>(Hover for airport names)',\n",
    "        colorbar = True,\n",
    "        geo = dict(\n",
    "#             scope='usa',\n",
    "#             projection=dict( type='albers usa' ),\n",
    "            showland = True,\n",
    "            landcolor = \"rgb(250, 250, 250)\",\n",
    "            subunitcolor = \"rgb(217, 217, 217)\",\n",
    "            countrycolor = \"rgb(217, 217, 217)\",\n",
    "            countrywidth = 0.5,\n",
    "            subunitwidth = 0.5\n",
    "        ),\n",
    "    )\n",
    "\n",
    "fig = dict( data=data, layout=layout )\n",
    "py.iplot( fig, validate=False, filename='d3-airports' )"
   ]
  }
 ],
 "metadata": {
  "kernelspec": {
   "display_name": "Python 3",
   "language": "python",
   "name": "python3"
  },
  "language_info": {
   "codemirror_mode": {
    "name": "ipython",
    "version": 3
   },
   "file_extension": ".py",
   "mimetype": "text/x-python",
   "name": "python",
   "nbconvert_exporter": "python",
   "pygments_lexer": "ipython3",
   "version": "3.7.0"
  }
 },
 "nbformat": 4,
 "nbformat_minor": 2
}
