{
 "cells": [
  {
   "cell_type": "markdown",
   "metadata": {},
   "source": [
    "pandas is a huge library. Let's make some notes!\n",
    "# Preparation\n",
    "## Option of pandas\n",
    "```bash\n",
    "pd.set_option('display.max_columns', 25) #display how many columns\n",
    "pd.set_option('display.max_rows', 20) #display how many rows\n",
    "```\n",
    "- The display setting is rather important, especially in some cases you need to deal with large amount of data!\n",
    "### get a DataFrame\n",
    "- ```pd.read_csv('xxx.csv')```\n",
    "### get a Series\n",
    "- ```pd.read_csv('xxx.csv')```\n",
    "### get a DataFrame from another DataFrame\n",
    "- ```df[np.isnan(df['2018-11-04']) == False]``` get a DataFrame with no NAN\n",
    "## DataFrame\n",
    "```bash\n",
    "import pandas as pd\n",
    "import numpy as np\n",
    "```\n"
   ]
  },
  {
   "cell_type": "code",
   "execution_count": 22,
   "metadata": {},
   "outputs": [],
   "source": [
    "import pandas as pd\n",
    "import numpy as np\n",
    "#显示所有列\n",
    "pd.set_option('display.max_columns', 25)\n",
    "#显示所有行\n",
    "pd.set_option('display.max_rows', 20)\n",
    "df=pd.read_csv('journalists-data-including-github-contributions.csv')"
   ]
  },
  {
   "cell_type": "code",
   "execution_count": 25,
   "metadata": {},
   "outputs": [
    {
     "data": {
      "text/plain": [
       "0      False\n",
       "1       True\n",
       "2      False\n",
       "3      False\n",
       "4       True\n",
       "5      False\n",
       "6      False\n",
       "7       True\n",
       "8       True\n",
       "9      False\n",
       "       ...  \n",
       "207     True\n",
       "208     True\n",
       "209     True\n",
       "210    False\n",
       "211    False\n",
       "212    False\n",
       "213     True\n",
       "214    False\n",
       "215    False\n",
       "216    False\n",
       "Name: 2018-11-04, Length: 217, dtype: bool"
      ]
     },
     "execution_count": 25,
     "metadata": {},
     "output_type": "execute_result"
    }
   ],
   "source": [
    "df[np.isnan(df['2018-11-04']) == False].T[4:] #2018-11-04如果為N/A，則說明此人沒有github\n"
   ]
  },
  {
   "cell_type": "code",
   "execution_count": null,
   "metadata": {},
   "outputs": [],
   "source": []
  }
 ],
 "metadata": {
  "kernelspec": {
   "display_name": "Python 3",
   "language": "python",
   "name": "python3"
  },
  "language_info": {
   "codemirror_mode": {
    "name": "ipython",
    "version": 3
   },
   "file_extension": ".py",
   "mimetype": "text/x-python",
   "name": "python",
   "nbconvert_exporter": "python",
   "pygments_lexer": "ipython3",
   "version": "3.7.0"
  }
 },
 "nbformat": 4,
 "nbformat_minor": 2
}
